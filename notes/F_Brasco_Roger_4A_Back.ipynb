{
 "cells": [
  {
   "cell_type": "markdown",
   "metadata": {},
   "source": [
    "<div style=\"padding:30px; color: white; background-color: #0071CD\">\n",
    "<center>\n",
    "    <img src=\"img/logoub.jpeg\"></img>\n",
    "<p>\n",
    "<h1>Algorísmica Avançada</h1>\n",
    "<h2>Problemas Enumerativos A</h2>\n",
    "</center>\n",
    "</p>\n",
    "</div>"
   ]
  },
  {
   "cell_type": "markdown",
   "metadata": {},
   "source": [
    "<div class=\"alert alert-info\">\n",
    "<center>\n",
    "  <h1>Backtracking</h1>\n",
    "</center>\n",
    "</div>"
   ]
  },
  {
   "cell_type": "markdown",
   "metadata": {},
   "source": [
    "<div class=\"alert alert-success\" style=\"width:90%; margin:0 auto;\">\n",
    "<h2><p>1. Sudoku (Ejercicio Opcional)</p></h2>\n",
    "<p>\n",
    "En este ejercicio queremos diseñar un \"solucionador\" de sudokus utilizando estrategias de backtracking. Para ello se os da la clase Sudoku que hace las veces de modelo y contiene funciones útiles que os permitirán centraros en el desarrollo del algoritmo.\n",
    "</p><p>\n",
    "El problema del sudoku consiste, basicamente en rellenar un tablero con números del 1 al 9 (ambos incluidos). Para insertar los numeros de forma válida en el tablero se tienen que cumplir tres condiciones:\n",
    "</p>\n",
    "<ul>\n",
    "    <li> El número no se encuentra repetido en la misma __fila__</li>\n",
    "<li> El número no se encuentra repetido en la misma __columna__</li>\n",
    "<li> El número no se encuentra repetido en el mismo __bloque__*</li>\n",
    "</ul>\n",
    "<p>\n",
    "* _Un bloque es cada una de las sub-divisiones 3x3 del tablero._</p>\n",
    "</div>"
   ]
  },
  {
   "cell_type": "code",
   "execution_count": 1,
   "metadata": {},
   "outputs": [
    {
     "output_type": "stream",
     "name": "stdout",
     "text": [
      "1- Crear un sudoku\n+-------+-------+-------+\n| 2     |   8   | 3     |\n|   6   |   7   |   8 4 |\n|   3   | 5     | 2   9 |\n+-------+-------+-------+\n|       | 1   5 | 4   8 |\n|       |       |       |\n| 4   2 | 7   6 |       |\n+-------+-------+-------+\n| 3   1 |     7 |   4   |\n| 7 2   |   4   |   6   |\n|     4 |   1   |     3 |\n+-------+-------+-------+\n\n2- Obtén los números válidos en (0,1)\n[1 4 5 7 9]\n[]\n3 - Obtén las posiciones vacías\n[(0, 1), (0, 2), (0, 3), (0, 5), (0, 7), (0, 8), (1, 0), (1, 2), (1, 3), (1, 5), (1, 6), (2, 0), (2, 2), (2, 4), (2, 5), (2, 7), (3, 0), (3, 1), (3, 2), (3, 4), (3, 7), (4, 0), (4, 1), (4, 2), (4, 3), (4, 4), (4, 5), (4, 6), (4, 7), (4, 8), (5, 1), (5, 4), (5, 6), (5, 7), (5, 8), (6, 1), (6, 3), (6, 4), (6, 6), (6, 8), (7, 2), (7, 3), (7, 5), (7, 6), (7, 8), (8, 0), (8, 1), (8, 3), (8, 5), (8, 6), (8, 7)]\n4 - Añade un 7 a la posición (0,1)\n+-------+-------+-------+\n| 2     |   8   | 3     |\n|   6   |   7   |   8 4 |\n|   3   | 5     | 2   9 |\n+-------+-------+-------+\n|       | 1   5 | 4   8 |\n|       |       |       |\n| 4   2 | 7   6 |       |\n+-------+-------+-------+\n| 3   1 |     7 |   4   |\n| 7 2   |   4   |   6   |\n|     4 |   1   |     3 |\n+-------+-------+-------+\n\n+-------+-------+-------+\n| 2 7   |   8   | 3     |\n|   6   |   7   |   8 4 |\n|   3   | 5     | 2   9 |\n+-------+-------+-------+\n|       | 1   5 | 4   8 |\n|       |       |       |\n| 4   2 | 7   6 |       |\n+-------+-------+-------+\n| 3   1 |     7 |   4   |\n| 7 2   |   4   |   6   |\n|     4 |   1   |     3 |\n+-------+-------+-------+\n\nInvalid number!\n"
     ]
    }
   ],
   "source": [
    "from sudoku import Sudoku\n",
    "import numpy as np\n",
    "\n",
    "# Para cargar el sudoku introducimos la ruta al archivo. En la carpeta './sudokus' tenéis un buén número\n",
    "# de ejemplos con los que podéis jugar\n",
    "\n",
    "print(\"1- Crear un sudoku\")\n",
    "s2 = Sudoku('sudoku/s2')\n",
    "print(s2)\n",
    "\n",
    "# Dada una posición definida como una tupla de dos elementos (x,y) en el rango [0,8], podemos obtener los\n",
    "# elementos validos para una posición vacía\n",
    "\n",
    "print(\"2- Obtén los números válidos en (0,1)\")\n",
    "print(s2.get_valid((0,1)))\n",
    "\n",
    "# En caso que se trate de una posición que ya contiene un número devolverá una lista vacía\n",
    "print(s2.get_valid((0,0)))\n",
    "\n",
    "# También podemos obtener la lista de todos los elementos vacios\n",
    "print(\"3 - Obtén las posiciones vacías\")\n",
    "print(s2.get_empty())\n",
    "\n",
    "# Finalmente, nos permite insertar un numero en una posición dada.\n",
    "print(\"4 - Añade un 7 a la posición (0,1)\")\n",
    "s3 = s2.set_number((0,1),7)\n",
    "print(s2)\n",
    "print(s3)\n",
    "\n",
    "# En caso de que no se pueda insertar el numero en esa posición nos devolverá un mensaje de error:\n",
    "s2.set_number((0,1),2)"
   ]
  },
  {
   "cell_type": "markdown",
   "metadata": {},
   "source": [
    "Implementa un algoritmo que utilice backtracking y que solucione el juego del Sudoku:"
   ]
  },
  {
   "cell_type": "code",
   "execution_count": 2,
   "metadata": {
    "collapsed": true
   },
   "outputs": [],
   "source": [
    "def sudoku_solver(s, count=0, verbose=False):\n",
    "    \"\"\"\n",
    "    Función que resuelve el sudoku mediante backtracking. El retorno es el mismo objeto Sudoku solucionado.\n",
    "    Input:\n",
    "        s (Sudoku) - Sudoku de entrada con algunos números ya situados.\n",
    "    Output:\n",
    "        s (Sudoku) - El mismo sudoku de entrada pero correcta y completamente solucionado.\n",
    "    \"\"\"\n",
    "    try:\n",
    "        # Take an empty cell\n",
    "        pos = s.get_empty().pop(0)\n",
    "    except:\n",
    "        if verbose:\n",
    "            print(f'Función sudoku_solver llamada {count} veces')\n",
    "\n",
    "        # If it's empty, the solution has been found\n",
    "        return s\n",
    "    \n",
    "    # For every valid number in that empty cell\n",
    "    for i in s.get_valid(pos):\n",
    "        count += 1\n",
    "        # Solve adding a valid number\n",
    "        temp = sudoku_solver(s.set_number(pos, i), count, verbose)\n",
    "        \n",
    "        # If it converges to a solution\n",
    "        if temp:\n",
    "            return temp\n",
    "    return False"
   ]
  },
  {
   "cell_type": "code",
   "execution_count": 3,
   "metadata": {
    "tags": []
   },
   "outputs": [
    {
     "output_type": "stream",
     "name": "stdout",
     "text": [
      "34.7 ms ± 2.65 ms per loop (mean ± std. dev. of 7 runs, 10 loops each)\n"
     ]
    }
   ],
   "source": [
    "s2 = Sudoku('sudoku/s2')\n",
    "%timeit sudoku_solver(s2)"
   ]
  },
  {
   "cell_type": "code",
   "execution_count": 4,
   "metadata": {
    "tags": []
   },
   "outputs": [
    {
     "output_type": "stream",
     "name": "stdout",
     "text": [
      "Función sudoku_solver llamada 67 veces\n+-------+-------+-------+\n| 4 6 2 | 8 3 1 | 9 5 7 |\n| 7 9 5 | 4 2 6 | 1 8 3 |\n| 3 8 1 | 7 9 5 | 4 2 6 |\n+-------+-------+-------+\n| 1 7 3 | 9 8 4 | 2 6 5 |\n| 6 5 9 | 3 1 2 | 7 4 8 |\n| 2 4 8 | 5 6 7 | 3 1 9 |\n+-------+-------+-------+\n| 9 2 6 | 1 7 8 | 5 3 4 |\n| 8 3 4 | 2 5 9 | 6 7 1 |\n| 5 1 7 | 6 4 3 | 8 9 2 |\n+-------+-------+-------+\n\n"
     ]
    }
   ],
   "source": [
    "s3 = Sudoku('sudoku/s3')\n",
    "print(sudoku_solver(s3, verbose=True))"
   ]
  },
  {
   "cell_type": "code",
   "execution_count": 5,
   "metadata": {
    "collapsed": true,
    "tags": []
   },
   "outputs": [
    {
     "output_type": "stream",
     "name": "stdout",
     "text": [
      "Función sudoku_solver llamada 102 veces\n+-------+-------+-------+\n| 1 2 3 | 4 5 6 | 7 8 9 |\n| 4 5 6 | 7 8 9 | 1 2 3 |\n| 7 8 9 | 1 2 3 | 4 5 6 |\n+-------+-------+-------+\n| 2 1 4 | 3 6 5 | 8 9 7 |\n| 3 6 5 | 8 9 7 | 2 1 4 |\n| 8 9 7 | 2 1 4 | 3 6 5 |\n+-------+-------+-------+\n| 5 3 1 | 6 4 2 | 9 7 8 |\n| 6 4 2 | 9 7 8 | 5 3 1 |\n| 9 7 8 | 5 3 1 | 6 4 2 |\n+-------+-------+-------+\n\n"
     ]
    }
   ],
   "source": [
    "s4 = Sudoku('sudoku/s4')\n",
    "print(sudoku_solver(s4, verbose=True))"
   ]
  },
  {
   "cell_type": "markdown",
   "metadata": {},
   "source": [
    "Si tu implementación realiza una búsqueda exhaustiva, ¿podría realizarse alguna optimización al algoritmo que logre encontrar la solución en menos tiempo? En caso afirmativo, impleméntala. En caso negativo, explica por qué crees que no se puede mejorar."
   ]
  },
  {
   "cell_type": "code",
   "execution_count": 6,
   "metadata": {
    "collapsed": true
   },
   "outputs": [],
   "source": [
    "def get_empty_ordered(left):\n",
    "    \"\"\"\n",
    "    Devuelve una lista con las casillas disponibles\n",
    "    con prioridad a esas casillas cuyo bloque tiene\n",
    "    menos casillas libres\n",
    "    :param left: s.get_empty()\n",
    "    :return: Lista de casillas libres\n",
    "    \"\"\"\n",
    "    if not left:\n",
    "        return []\n",
    "    mat = {0: {0: [], 1: [], 2: []}, 1: {0: [], 1: [], 2: []}, 2: {0: [], 1: [], 2: []}}\n",
    "    for i, j in left:\n",
    "        mat[int(i/3)][int(j/3)].append((i, j))\n",
    "    min_values = sorted([val for row in mat for val in mat[row].values() if len(val) > 1], key=lambda x: len(x))\n",
    "    return [pos for block in min_values for pos in block]\n",
    "\n",
    "def sudoku_solver_opt(s, q=[], count=0, verbose=False):\n",
    "    \"\"\"\n",
    "    Función que resuelve el sudoku mediante backtracking. El retorno es el mismo objeto Sudoku solucionado.\n",
    "    Input:\n",
    "        s (Sudoku) - Sudoku de entrada con algunos números ya situados.\n",
    "    Output:\n",
    "        s (Sudoku) - El mismo sudoku de entrada pero correcta y completamente solucionado.\n",
    "    \"\"\"\n",
    "    try:\n",
    "        # Copy 'q' list to get rid of the reference\n",
    "        q_temp = q.copy()\n",
    "        # Take an empty cell of temp list\n",
    "        pos = q_temp.pop(0)\n",
    "    except:\n",
    "        if verbose:\n",
    "            print(f'Función sudoku_solver_opt llamada {count} veces')\n",
    "        \n",
    "        # If it's empty, the solution has been found\n",
    "        return s\n",
    "        \n",
    "    # For every valid number in that empty cell\n",
    "    for i in s.get_valid(pos):\n",
    "        count += 1\n",
    "        # Solve adding a valid number\n",
    "        temp = sudoku_solver_opt(s.set_number(pos, i), q_temp, count, verbose)\n",
    "        \n",
    "        # If it converges to a solution\n",
    "        if temp:\n",
    "            # Erase filled cell for backtracking\n",
    "            q.pop(0)\n",
    "            return temp\n",
    "    return False"
   ]
  },
  {
   "cell_type": "code",
   "execution_count": 7,
   "metadata": {
    "collapsed": true
   },
   "outputs": [
    {
     "output_type": "stream",
     "name": "stdout",
     "text": [
      "Función sudoku_solver llamada 59 veces\n+-------+-------+-------+\n| 4 8 3 | 9 2 1 | 6 5 7 |\n| 9 6 7 | 3 4 5 | 8 2 1 |\n| 2 5 1 | 8 7 6 | 4 9 3 |\n+-------+-------+-------+\n| 5 4 8 | 1 3 2 | 9 7 6 |\n| 7 2 9 | 5 6 4 | 1 3 8 |\n| 1 3 6 | 7 9 8 | 2 4 5 |\n+-------+-------+-------+\n| 3 7 2 | 6 8 9 | 5 1 4 |\n| 8 1 4 | 2 5 3 | 7 6 9 |\n| 6 9 5 | 4 1 7 | 3 8 2 |\n+-------+-------+-------+\n\nFunción sudoku_solver_opt llamada 57 veces\n+-------+-------+-------+\n| 4 8 3 | 9 2 1 | 6 5 7 |\n| 9 6 7 | 3 4 5 | 8 2 1 |\n| 2 5 1 | 8 7 6 | 4 9 3 |\n+-------+-------+-------+\n| 5 4 8 | 1 3 2 | 9 7 6 |\n| 7 2 9 | 5 6 4 | 1 3 8 |\n| 1 3 6 | 7 9 8 | 2 4 5 |\n+-------+-------+-------+\n| 3 7 2 | 6 8 9 | 5 1 4 |\n| 8 1 4 | 2 5 3 | 7 6 9 |\n| 6 9 5 | 4 1 7 | 3 8 2 |\n+-------+-------+-------+\n\n"
     ]
    }
   ],
   "source": [
    "s5 = Sudoku('sudoku/s5')\n",
    "print(sudoku_solver(s5, verbose=True))\n",
    "print(sudoku_solver_opt(s5, get_empty_ordered(s5.get_empty()), verbose=True))"
   ]
  },
  {
   "source": [
    "Realizamos un banco de pruebas para observar si nuestra optimización del `sudoku_solver` es sustancial. Como optimización hemos añadido al algoritmo una lista de casillas vacías ordenadas de cierta manera. La ordenación da prioridad a las casillas cuyo bloque tenga menos casillas vacías. Podemos añadir, que esta lista es calculada una sola vez y el algoritmo borra elementos o los vuelve a añadir, según convenga."
   ],
   "cell_type": "markdown",
   "metadata": {}
  },
  {
   "cell_type": "code",
   "execution_count": 8,
   "metadata": {},
   "outputs": [
    {
     "output_type": "stream",
     "name": "stdout",
     "text": [
      "Banc de proves\n",
      "Sudoku #2\n",
      "+-------+-------+-------+\n",
      "| 2     |   8   | 3     |\n",
      "|   6   |   7   |   8 4 |\n",
      "|   3   | 5     | 2   9 |\n",
      "+-------+-------+-------+\n",
      "|       | 1   5 | 4   8 |\n",
      "|       |       |       |\n",
      "| 4   2 | 7   6 |       |\n",
      "+-------+-------+-------+\n",
      "| 3   1 |     7 |   4   |\n",
      "| 7 2   |   4   |   6   |\n",
      "|     4 |   1   |     3 |\n",
      "+-------+-------+-------+\n",
      "\n",
      "Solver:  32.7 ms ± 524 µs per loop (mean ± std. dev. of 7 runs, 10 loops each)\n",
      "Solver opt:  464 ms ± 13.7 ms per loop (mean ± std. dev. of 7 runs, 1 loop each)\n",
      "\n",
      "Sudoku #3\n",
      "+-------+-------+-------+\n",
      "|       |       | 9   7 |\n",
      "|       | 4 2   | 1 8   |\n",
      "|       | 7   5 |   2 6 |\n",
      "+-------+-------+-------+\n",
      "| 1     | 9   4 |       |\n",
      "|   5   |       |   4   |\n",
      "|       | 5   7 |     9 |\n",
      "+-------+-------+-------+\n",
      "| 9 2   | 1   8 |       |\n",
      "|   3 4 |   5 9 |       |\n",
      "| 5   7 |       |       |\n",
      "+-------+-------+-------+\n",
      "\n",
      "Solver:  2.07 s ± 26.9 ms per loop (mean ± std. dev. of 7 runs, 1 loop each)\n",
      "Solver opt:  927 ms ± 20.5 ms per loop (mean ± std. dev. of 7 runs, 1 loop each)\n",
      "\n",
      "Sudoku #4\n",
      "+-------+-------+-------+\n",
      "|       |       |       |\n",
      "|       |       |       |\n",
      "|       |       |       |\n",
      "+-------+-------+-------+\n",
      "|       |       |       |\n",
      "|       |       |       |\n",
      "|       |       |       |\n",
      "+-------+-------+-------+\n",
      "|       |       |       |\n",
      "|       |       |       |\n",
      "|       |       |       |\n",
      "+-------+-------+-------+\n",
      "\n",
      "Solver:  49.4 ms ± 2.13 ms per loop (mean ± std. dev. of 7 runs, 10 loops each)\n",
      "Solver opt:  45.9 ms ± 824 µs per loop (mean ± std. dev. of 7 runs, 10 loops each)\n",
      "\n",
      "Sudoku #5\n",
      "+-------+-------+-------+\n",
      "|     3 |   2   | 6     |\n",
      "| 9     | 3   5 |     1 |\n",
      "|     1 | 8   6 | 4     |\n",
      "+-------+-------+-------+\n",
      "|     8 | 1   2 | 9     |\n",
      "| 7     |       |     8 |\n",
      "|     6 | 7   8 | 2     |\n",
      "+-------+-------+-------+\n",
      "|     2 | 6   9 | 5     |\n",
      "| 8     | 2   3 |     9 |\n",
      "|     5 |   1   | 3     |\n",
      "+-------+-------+-------+\n",
      "\n",
      "Solver:  23.1 ms ± 1.01 ms per loop (mean ± std. dev. of 7 runs, 10 loops each)\n",
      "Solver opt:  8.96 ms ± 244 µs per loop (mean ± std. dev. of 7 runs, 100 loops each)\n",
      "\n",
      "Sudoku #st\n",
      "+-------+-------+-------+\n",
      "|       | 7 4 3 | 8 6 1 |\n",
      "| 4 3 1 | 8 6 5 | 9 2 7 |\n",
      "| 8 7 6 | 1 9 2 | 5 4 3 |\n",
      "+-------+-------+-------+\n",
      "| 3 8 7 | 4 5 9 | 2 1 6 |\n",
      "| 6 1 2 | 3 8 7 | 4 9 5 |\n",
      "| 5 4 9 | 2 1 6 | 7 3 8 |\n",
      "+-------+-------+-------+\n",
      "| 7 6 3 | 5 3 4 | 1 8 9 |\n",
      "| 6 2 8 | 6 7 1 | 3 5 4 |\n",
      "| 1 5 4 | 9 3 8 | 6 7 2 |\n",
      "+-------+-------+-------+\n",
      "\n",
      "Solver:  290 µs ± 11 µs per loop (mean ± std. dev. of 7 runs, 1000 loops each)\n",
      "Solver opt:  75.3 µs ± 1.22 µs per loop (mean ± std. dev. of 7 runs, 10000 loops each)\n"
     ]
    }
   ],
   "source": [
    "print(\"Banc de proves\")\n",
    "for i in range(2, 6):\n",
    "    s = Sudoku(f'sudoku/s{i}')\n",
    "    print(f'Sudoku #{i}')\n",
    "    print(s)\n",
    "    print(\"Solver: \", end=\" \")\n",
    "    %timeit sudoku_solver(s)\n",
    "    print(\"Solver opt: \", end=\" \")\n",
    "    %timeit sudoku_solver_opt(s, get_empty_ordered(s.get_empty()))\n",
    "    print()\n",
    "\n",
    "st = Sudoku('sudoku/st')\n",
    "print('Sudoku #st')\n",
    "print(st)\n",
    "print(\"Solver: \", end=\" \")\n",
    "%timeit sudoku_solver(st)\n",
    "print(\"Solver opt: \", end=\" \")\n",
    "%timeit sudoku_solver_opt(st, get_empty_ordered(s.get_empty()))"
   ]
  },
  {
   "cell_type": "markdown",
   "metadata": {},
   "source": [
    "<div class=\"alert alert-success\" style=\"width:90%; margin:0 auto;\">\n",
    "<h2><p>2. Cartas (EJERCICIO ENTREGABLE)</p></h2>\n",
    "<p>\n",
    "Supongamos que tenemos un conjunto de parejas de cartas del mismo valor. En particular, tenemos parejas de cartas hasta N. Por ejemplo, para $N=3$ tendríamos una pareja de 1s, una de 2s y una de 3s (un total de 6 cartas). Lo que queremos es encontrar la manera de ordenarlas para que entre las dos cartas de valor $n_i$ haya exactamente $n_i$ cartas. En el ejemplo con $N=3$ tendríamos la siguiente solución:\n",
    "</p>\n",
    "<center> <b>   3 - 1 - 2 - 1- 3 - 2 </b></center>\n",
    "<p>\n",
    "Podemos observar que entre los 3 hay tres cartas, entre los 2 hay dos y entre los 1 solo hay una. Dependiendo del tamaño de N el problema podría no tener solución. Por ejemplo $N=5$ o $N=6$. Se pide la implementación de un algoritmo que, mediante backtracking, devuelva una lista con la configuración encontrada dado un valor N. En caso de no haber solución, debe devolver una lista vacía.\n",
    "</p> <p>\n",
    "Es importante destacar que tendréis que prestar especial atención a la complejidad de vuestra solución, dado que el problema crece de forma no polinómica y para un valor $N>12$ podría tardar horas. Hay diferentes aproximaciones para resolverlo. Bien hecho, $N=12$ debería tardar escasos segundos. Si haces varias versiones, puedes entregarlas junto con la comparativa de complejidad correspondiente.</p>\n",
    "</div>"
   ]
  },
  {
   "cell_type": "code",
   "execution_count": 9,
   "metadata": {
    "collapsed": true,
    "tags": []
   },
   "outputs": [],
   "source": [
    "def recursive_deck(n, sol, used):\n",
    "    '''\n",
    "    Implementa aquí tu solución. Debe devolver una lista con las cartas ordenadas tal y como se especifica\n",
    "    en el enunciado o None en caso de no existir solución para la entrada dada.\n",
    "        Input:\n",
    "            n (int) - Entero indicando el número de cartas diferentes (e.g: 3)\n",
    "        Output:\n",
    "            card_order (list) - Lista de enteros mostrando el orden de las cartas (e.g: [3,1,2,1,3,2])\n",
    "    '''\n",
    "    # If all numbers have been used, return solution\n",
    "    if all(used):\n",
    "        return sol\n",
    "    \n",
    "    # For every card\n",
    "    for i in range(n-1, -1, -1):\n",
    "        # If the card has not been used\n",
    "        if not used[i]:\n",
    "            # Compute indices\n",
    "            val = i + 1\n",
    "            ind1 = sol.index(0)\n",
    "            ind2 = ind1 + val + 1\n",
    "\n",
    "            # If ind2 fits inside sol array and that cell is empty\n",
    "            if ind2 < n*2 and not sol[ind2]:\n",
    "                used[i] = True\n",
    "                sol[ind1], sol[ind2] = val, val\n",
    "\n",
    "                # Solve adding the card\n",
    "                if recursive_deck(n, sol, used):\n",
    "                    return sol\n",
    "                else:\n",
    "                    # Erase the failed card\n",
    "                    used[i] = False\n",
    "                    sol[ind1], sol[ind2] = 0, 0\n",
    "    return False\n",
    "\n",
    "def possible(n):\n",
    "    return (n % 4 == 0) or ((n+1) % 4 == 0)\n",
    "\n",
    "def deck(n):\n",
    "    sol = [0]*(n*2)\n",
    "    used = [False]*n\n",
    "\n",
    "    return recursive_deck(n, sol, used) if possible(n) else []\n"
   ]
  },
  {
   "source": [
    "Observamos que la recursividad de este algortime sigue la fórmula $T(n) = n·T(n-1)$, ya que en los peores de los casos para cada carta del rango `n` se llama la función con `n-1` posibilidades de cartas para usar. Para todo `n` tendriamos una complejidad de $O(n)=n^n$, en el peor de los casos. Para `n` que cumple $n\\%4\\equiv0$ y $(n+1)\\%4 \\equiv 0$, la complejidad es mucho menor, entre $O(n)=n^2$ y $O(n)=n^{log(n)}$. Ya que no debe calcular todas las posibilidades distintas y converge a la solución mucho más rápido."
   ],
   "cell_type": "markdown",
   "metadata": {}
  },
  {
   "cell_type": "code",
   "execution_count": 10,
   "metadata": {},
   "outputs": [
    {
     "output_type": "stream",
     "name": "stdout",
     "text": [
      "Sol 1: NO ENCONTRADA\nSol 2: NO ENCONTRADA\nSol 3:  3-1-2-1-3-2\nSol 4:  4-1-3-1-2-4-3-2\nSol 5: NO ENCONTRADA\nSol 6: NO ENCONTRADA\nSol 7:  7-4-1-5-1-6-4-3-7-5-2-3-6-2\nSol 8:  8-6-4-2-7-5-2-4-6-8-3-5-7-1-3-1\nSol 9: NO ENCONTRADA\nSol 10: NO ENCONTRADA\nSol 11:  11-9-7-5-10-2-6-8-2-5-7-9-11-6-4-10-8-3-1-4-1-3\nSol 12:  12-10-11-6-4-5-9-7-8-4-6-5-10-12-11-7-9-8-3-1-2-1-3-2\nSol 13: NO ENCONTRADA\nSol 14: NO ENCONTRADA\nSol 15:  15-13-14-10-8-6-4-2-11-12-2-4-6-8-10-13-15-14-9-7-11-3-12-5-1-3-1-7-9-5\nSol 16:  16-14-15-11-9-7-13-4-2-12-10-2-4-7-9-11-14-16-15-8-13-10-12-5-6-1-3-1-8-5-3-6\nSol 17: NO ENCONTRADA\nSol 18: NO ENCONTRADA\nSol 19:  19-17-18-14-12-16-9-7-5-15-2-11-13-2-5-7-9-12-14-17-19-18-16-11-10-15-13-8-3-4-6-1-3-1-4-10-8-6\n"
     ]
    }
   ],
   "source": [
    "for n in range(1,20):\n",
    "    sol = deck(n)\n",
    "    if sol:\n",
    "        print(\"Sol \"+str(n)+\": \",\"-\".join(map(str,sol)))\n",
    "    else:\n",
    "        print(\"Sol \"+str(n)+\": NO ENCONTRADA\")"
   ]
  },
  {
   "cell_type": "markdown",
   "metadata": {},
   "source": [
    "<div class=\"alert alert-info\">\n",
    "<center>\n",
    "  <h1>Entrega</h1>\n",
    "</center>\n",
    "<p>\n",
    "La entrega de estos problemas se podrá realizar en el campus virtual hasta el día <b>16 de Diciembre a las 23:55</b>. En la tarea que se habilitará en el campus deberéis colgar <b>únicamente este notebook</b> con el nombre:\n",
    "</p>\n",
    "<p>\n",
    "```\n",
    "[grupo]_[apellido]_[nombre]_4A_Back.ipynb\n",
    "```\n",
    "\n",
    "</p>\n",
    "<p>\n",
    "    Por ejemplo, para un alumno llamado <i>Nombre Genérico</i> perteneciente al <i>grupo Z</i> el nombre del archivo debería ser:\n",
    "</p>\n",
    "<p>\n",
    "```\n",
    "Z_Generico_Nombre_4A_Back.ipynb\n",
    "```\n",
    "\n",
    "Y <b>NO</b>:\n",
    "<ul>\n",
    "<li>Z00_Generico_Nombre_4A_Back.zip</li>\n",
    "    \n",
    "<li>ZX_Generico_Nombre_4A_Back.ipynb</li>\n",
    "\n",
    "<li>Lab2_Generico_Nombre_4A_Back.rar</li>\n",
    "\n",
    "<li>4A_Back.ipynb</li>\n",
    "<li> ... literalmente cualquier otra cosa que no sea el nombre que sí hay que ponerle </li>\n",
    "</ul>\n",
    "</p>\n",
    "<p>\n",
    "\n",
    "\n",
    "Es fundamental que el código esté bién comentado. La importancia de poner nombre correcto al archivo debería ser directamente proporcional a lo contentos que queráis que los profesores de prácticas corrijan.<b> No adherirse al formato en el nombre del archivo así como entregar otro tipo de archivo o varios archivos, conllevará a la no corrección de vuestra práctica.</b>\n",
    "</p>\n",
    "</div>"
   ]
  },
  {
   "cell_type": "code",
   "execution_count": null,
   "metadata": {},
   "outputs": [],
   "source": []
  }
 ],
 "metadata": {
  "kernelspec": {
   "display_name": "Python 3",
   "language": "python",
   "name": "python3"
  },
  "language_info": {
   "codemirror_mode": {
    "name": "ipython",
    "version": 3
   },
   "file_extension": ".py",
   "mimetype": "text/x-python",
   "name": "python",
   "nbconvert_exporter": "python",
   "pygments_lexer": "ipython3",
   "version": "3.6.8-final"
  }
 },
 "nbformat": 4,
 "nbformat_minor": 1
}