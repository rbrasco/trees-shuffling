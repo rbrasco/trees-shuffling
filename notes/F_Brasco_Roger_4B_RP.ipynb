{
 "cells": [
  {
   "cell_type": "markdown",
   "metadata": {},
   "source": [
    "<div style=\"padding:30px; color: white; background-color: #0071CD\">\n",
    "<center>\n",
    "<img src=\"img/logoub.jpeg\"></img>\n",
    "<center>\n",
    "<p>\n",
    "<h1>Algorítmica Avanzada</h1>\n",
    "<h2>Problemas Enumerativos B </h2>\n",
    "</center>\n",
    "</p>\n",
    "</div>"
   ]
  },
  {
   "cell_type": "markdown",
   "metadata": {},
   "source": [
    "<div class=\"alert alert-info\">\n",
    "<center>\n",
    "  <h1>Ramificación y poda</h1>\n",
    "</center>\n",
    "</div>"
   ]
  },
  {
   "cell_type": "markdown",
   "metadata": {},
   "source": [
    "Para la implementación de cualquier algoritmo de ramificación y poda puede ser de gran ayuda partir de un esqueleto que contenga las diferentes partes de estos algoritmos. Una vez implementadas, se puede seguir de manera bastante directa la implementación de un algoritmo de R&P, en base a estas funciones, que siga la estructura dada en clase para estos algoritmos (con las modificaciones pertinentes que sean dependientes del problema específico con el que se está trabajando). Para ello, de manera similar a la práctica, os damos un esqueleto general que podéis usar para resolver todos estos problemas. <b>En el caso del 8Puzzle (ejercicio entregable) deberéis resolverlo implementando las diferentes funciones de esta clase</b>. Igual que en la práctica, si consideráis necesario añadir otros atributos o métodos a la clase podéis hacerlo, pero las funciones que os damos deben estar implementadas."
   ]
  },
  {
   "cell_type": "code",
   "execution_count": 1,
   "metadata": {},
   "outputs": [],
   "source": [
    "class State:\n",
    "    # Al crear un estado necesitaremos pasarle diversos elementos. Por ejemplo: \n",
    "    #       - la representación de nuestro estado actual\n",
    "    #       - la solución parcial hasta la que hemos llegado\n",
    "    #       - algún atributo o métrica del estado actual\n",
    "    #       - ...\n",
    "    def __init__(self):\n",
    "        pass\n",
    "    \n",
    "    # Esta función devuelve las posibles decisiones (elementos posibles que añadir a nuestra solución\n",
    "    # parcial) que podemos tomar desde el estado actual\n",
    "    def get_possible(self):\n",
    "        pass\n",
    "    \n",
    "    # Esta función requerirá de parámetros adicionales (probablemente alguno de los elementos devueltos por \n",
    "    # la función get_possible) que le permitan convertir el estado actual en un nuevo estado hijo.\n",
    "    def next_state(self):\n",
    "        # return State( ... ) \n",
    "        pass\n",
    "    \n",
    "    # Esta función devuelve True si el estado actual es una solución completa y\n",
    "    # False en caso contrario\n",
    "    def is_complete(self):\n",
    "        pass\n",
    "    \n",
    "    # Esta función devuelve la cota superior u optimista del estado actual\n",
    "    def get_upper_bound(self):\n",
    "        pass\n",
    "    \n",
    "    # Esta función devuelve la cota inferior del estado actual\n",
    "    def get_lower_bound(self):\n",
    "        pass\n",
    "    \n",
    "    # Esta función devuelve True si la cota optimista es mejor que el mejor resultado econtrado hasta ahora\n",
    "    def is_promising(self,best_value):\n",
    "        pass\n",
    "    \n",
    "    # Esta función establece el orden relativo de dos objetos de la clase State\n",
    "    # se empleará para ordenarlos en la exploración de estados de B&b\n",
    "    def __lt__(self,other):\n",
    "        pass    "
   ]
  },
  {
   "cell_type": "markdown",
   "metadata": {},
   "source": [
    "\n",
    "<div class=\"alert alert-success\" style=\"width:90%; margin:0 auto;\">\n",
    "  <h2><p>1. Problema de la mochila (Opcional)</p></h2>\n",
    "  \n",
    "   <p> En esta primera sección trabajaremos con el problema de la mochila que ya vimos en problemas Greedy y PD. No obstante, hemos propuesto una modificación en la que podemos tener más de un objeto de cada tipo. Refrequemos un poco:\n",
    "</p>\n",
    "    Nos encontramos en una habitación en la que hay $N$ objetos con pesos $w_1, w_2, w_3 ... w_N$ y tenemos una mochila que puede soportar una carga máxima de $W$. En este caso se pide que realicéis una implementación de Ramificación y Poda para resolver el problema de la mochila con valor:\n",
    "<br><br>\n",
    " **mochila_valor:** Cada objeto tendrá asignado un valor $v_1, v_2, v_3 ... v_N$. Buscamos llenar la mochila maximizando el valor total de la mochila pero sin superar la capacidad máxima. En esta variante, trabajaremos con una versión de la mochila en la que tenemos una cantidad limitada $c_1, c_2, c_3 ... c_N$ de objetos que puede ser mayor que uno. Es decir queremos encontrar la combinación de objetos $b$ tal que $\\arg_{b} \\max{\\sum_{i=0}^{N}{v_i · b_i · c_i}}$ con la condición de que $\\sum_{i=0}^{N}{(w_i · b_i · c_i)}\\leq W$. Nada nos obliga a coger todos los objetos de un tipo, es decir, si tenemos, por ejemplo, 4 objetos de un tipo, la solución óptima podría coger sólo 3.\n",
    "     <br><br>\n",
    "La combinación de objetos $b$ es simplemente ilustrativa y no es necesario que la implementéis de forma explícita.\n",
    "</div>\n"
   ]
  },
  {
   "cell_type": "code",
   "execution_count": 2,
   "metadata": {},
   "outputs": [],
   "source": [
    "import random as rd\n",
    "\n",
    "# Genera un conjunto de objetos de prueba en forma de una lista de listas, \n",
    "# cada una de las cuales representa un elemento [peso,valor,cantidad]\n",
    "def random_objects():\n",
    "    objects = [[p,v,c] for p,v,c in zip(rd.sample(range(1, 50), k=10), rd.sample(range(1, 100), k=10),rd.sample(range(1, 15), k=10))]\n",
    "    return objects"
   ]
  },
  {
   "cell_type": "code",
   "execution_count": 3,
   "metadata": {},
   "outputs": [],
   "source": [
    "''' \n",
    "Implementa aquí la solución de Ramificación y poda que resuelve el problema de la mochila\n",
    "@input: (D) Lista de listas con la forma [peso,valor,cantidad] representando los objetos que podemos escoger.\n",
    "        (W) Entero que representa la capacidad de la mochila.\n",
    "@output: Lista de listas con la forma [peso,valor,cantidad] representando los objetos escogidos.\n",
    "'''\n",
    "def knapsack_branch(D,W):\n",
    "    pass\n"
   ]
  },
  {
   "cell_type": "code",
   "execution_count": 4,
   "metadata": {},
   "outputs": [
    {
     "output_type": "stream",
     "name": "stdout",
     "text": [
      "D [[18, 70, 5], [22, 44, 8], [12, 91, 9], [32, 6, 14], [9, 60, 10], [21, 47, 4], [1, 13, 2], [25, 8, 11], [40, 38, 7], [39, 56, 12]]\nNone\n"
     ]
    }
   ],
   "source": [
    "#rd.seed(0) # fijando el seed obtenemos siempre la misma mochila\n",
    "D = random_objects()\n",
    "print(\"D\",D)\n",
    "W = 150\n",
    "print(knapsack_branch(D,W))"
   ]
  },
  {
   "cell_type": "markdown",
   "metadata": {},
   "source": [
    "### Analiza el coste de tu implementación. Comparalo además con el coste de las implementaciones greedy y dinámica. Compara también la optimalidad de la solución en los tres casos."
   ]
  },
  {
   "cell_type": "markdown",
   "metadata": {},
   "source": [
    "#### Aquí tu respuesta"
   ]
  },
  {
   "cell_type": "markdown",
   "metadata": {},
   "source": [
    "<div class=\"alert alert-success\" style=\"width:90%; margin:0 auto;\">\n",
    "  <h2><p>2. El 8 puzzle (ENTREGA EVALUABLE OBLIGATORIA)</p></h2>\n",
    "\n",
    "El 8-Puzzle es un conocido puzzle deslizante que consiste en una cuadrícula de elementos numerados donde uno de los elementos no tiene ningún valor. El siguiente código muestra un ejemplo de un tablero resuelto, y un tablero por resolver: "
   ]
  },
  {
   "cell_type": "code",
   "execution_count": 5,
   "metadata": {},
   "outputs": [
    {
     "output_type": "stream",
     "name": "stdout",
     "text": [
      "Ejemplo de tablero:\n+-----------+\n|   | 2 | 5 | \n+-----------+\n| 1 | 6 | 3 | \n+-----------+\n| 4 | 7 | 8 | \n+-----------+\n\n"
     ]
    }
   ],
   "source": [
    "from npuzzle import NPuzzle\n",
    "\n",
    "board = NPuzzle()\n",
    "board.create_board(moves=100)\n",
    "\n",
    "print (\"Ejemplo de tablero:\")\n",
    "print(board)\n"
   ]
  },
  {
   "cell_type": "markdown",
   "metadata": {},
   "source": [
    "En este ejercicio queremos resolver de forma automática cualquier 8Puzzle propuesto utilizando __Branch & Bound__. Para simplificar la implementación se os da la clase __NPuzzle__ que os permite realizar las acciones más comunes sobre un tablero."
   ]
  },
  {
   "cell_type": "code",
   "execution_count": 6,
   "metadata": {},
   "outputs": [
    {
     "output_type": "stream",
     "name": "stdout",
     "text": [
      "+-----------+\n| 1 | 2 | 3 | \n+-----------+\n| 4 | 5 | 6 | \n+-----------+\n| 7 | 8 |   | \n+-----------+\n\n['L', 'U']\nTablero despues de realizar el movimiento L\n+-----------+\n| 1 | 2 | 3 | \n+-----------+\n| 4 | 5 | 6 | \n+-----------+\n| 7 |   | 8 | \n+-----------+\n\nLa condición de final de juego es: False\n"
     ]
    }
   ],
   "source": [
    "# Crear la clase NPuzzle\n",
    "board = NPuzzle()\n",
    "board.create_board()\n",
    "\n",
    "# Crear un tablero nuevo:\n",
    "print(board)\n",
    "\n",
    "# Mostrar los movimientos posibles en un estado, L=Left, R=Right, U=Up, D=Down\n",
    "am = board.allowed_moves()\n",
    "print(am)\n",
    "# Mover una pieza\n",
    "new_board = board.move(am[0])\n",
    "print (\"Tablero despues de realizar el movimiento\", am[0])\n",
    "print (new_board)\n",
    "\n",
    "# Comprobar el estado (True si está solucionado, False si no lo está)\n",
    "print (\"La condición de final de juego es:\", new_board.state())"
   ]
  },
  {
   "cell_type": "markdown",
   "metadata": {},
   "source": [
    "Se os pide que programéis una función que sea capaz de resolver un 8-Puzzle dada cualquier posible configuración inicial (La función NPuzzle.create_board solo devuelve configuraciones que tengan solución)\n",
    "\n",
    "La implementación del algoritmo ha de ser utilizando ramificación y poda. Para ramificar el arbol de estados utilizaremos como heurística la suma de la distáncia de Manhattan de todas las piezas a su posición objetivo. Esta función se os da implementada de la siguiente forma: **NPuzzle.manhattan_distance(board)**\n",
    "\n",
    "El objetivo del código es encontrar la solución óptima, que en este caso es la que tiene un menor número de pasos. Por lo tanto, para la implementación de la poda, utilizaremos como valor de cota la profundidad."
   ]
  },
  {
   "cell_type": "markdown",
   "metadata": {},
   "source": [
    "<div class=\"alert alert-danger\" style=\"width:80%; margin:0 auto; padding\">\n",
    "<center><p><h3> Tips and Tricks </h3></p> </center>\n",
    "<p>\n",
    "<ul>\n",
    "<li>\n",
    "Hay que tener cuidado con los estados repetidos. Se os da la función **NPuzzle.get_state_id(board)** para poder obtener un string único dado un tablero.\n",
    "</li>\n",
    "<li>\n",
    "Para la ramificación, la clase NPuzzle incluye **NPuzzle.manhattan_distance(board)**.\n",
    "</li>\n",
    "\n",
    "\n",
    "</p>\n",
    "</div>\n"
   ]
  },
  {
   "cell_type": "code",
   "execution_count": 7,
   "metadata": {},
   "outputs": [],
   "source": [
    "%reset -f\n",
    "from npuzzle import NPuzzle\n",
    "import heapq as hq\n",
    "\n",
    "class State:\n",
    "    # Al crear un estado necesitaremos pasarle diversos elementos. Por ejemplo: \n",
    "    #       - la representación de nuestro estado actual\n",
    "    #       - la solución parcial hasta la que hemos llegado\n",
    "    #       - algún atributo o métrica del estado actual\n",
    "    #       - ...\n",
    "    def __init__(self, board, depth=0):\n",
    "        self.board = board\n",
    "        self.board_id = board.get_state_id()\n",
    "        self.depth = depth\n",
    "        self.upper = self.depth + board.manhattan_distance()\n",
    "\n",
    "    \n",
    "    # Esta función devuelve las posibles decisiones (elementos posibles que añadir a nuestra solución\n",
    "    # parcial) que podemos tomar desde el estado actual\n",
    "    def get_possible(self):\n",
    "        return self.board.allowed_moves()\n",
    "    \n",
    "    # Esta función requerirá de parámetros adicionales (probablemente alguno de los elementos devueltos por \n",
    "    # la función get_possible) que le permitan convertir el estado actual en un nuevo estado hijo.\n",
    "    def next_state(self, move):\n",
    "        return State(board=self.board.move(move), depth=self.depth+1)\n",
    "    \n",
    "    # Esta función devuelve True si el estado actual es una solución completa y\n",
    "    # False en caso contrario\n",
    "    def is_complete(self):\n",
    "        return self.board.state()\n",
    "    \n",
    "    # Esta función devuelve la cota superior u optimista del estado actual\n",
    "    def get_upper_bound(self):\n",
    "        return self.upper\n",
    "    \n",
    "    # Esta función devuelve la cota inferior del estado actual\n",
    "    def get_lower_bound(self):\n",
    "        pass\n",
    "    \n",
    "    def get_depth(self):\n",
    "        return self.depth\n",
    "    \n",
    "    # Esta función devuelve True si la cota optimista es mejor que el mejor resultado econtrado hasta ahora\n",
    "    def is_promising(self,best_value):\n",
    "        return self.upper < best_value \n",
    "    \n",
    "    # Esta función establece el orden relativo de dos objetos de la clase State\n",
    "    # se empleará para ordenarlos en la exploración de estados de B&b\n",
    "    def __lt__(self, other):\n",
    "        return self.upper < other.upper\n",
    "\n",
    "    def get_solution(self):\n",
    "        return self.upper, self.board\n",
    "\n",
    "\n",
    "# QUE HABÉIS IMPLEMENTADO\n",
    "def solve_puzzle(board):\n",
    "    '''\n",
    "    Función que resuelve el problema del N-puzzle mediante ramificación y poda.\n",
    "    Input:\n",
    "        - board: tablero con la configuración inicial\n",
    "    Returns:\n",
    "        - distance: entero representando la cantidad de movimientos que se han realizado para resolver el puzzle\n",
    "        - final_board: tablero resuelto\n",
    "    '''\n",
    "    distance = float('inf')   \n",
    "    final_board = None\n",
    "\n",
    "    state = State(board)\n",
    "    existing_state = set([state.board_id])\n",
    "    queue = [state]\n",
    "\n",
    "    # Check if it's a solution already\n",
    "    if state.is_complete():\n",
    "        return 0, board\n",
    "    \n",
    "    # While queue not empty\n",
    "    while queue:\n",
    "        state = hq.heappop(queue)\n",
    "\n",
    "        # Check if its promising\n",
    "        if state.is_promising(distance):    \n",
    "            # For every possible move      \n",
    "            for move in state.get_possible():\n",
    "                # Create new state\n",
    "                next_state = state.next_state(move)\n",
    "\n",
    "                # Check if this state is unique and its promising\n",
    "                if next_state.board_id not in existing_state and next_state.is_promising(distance):\n",
    "                    # If its a solution, update distance\n",
    "                    if next_state.is_complete():\n",
    "                        distance, final_board = next_state.get_solution()\n",
    "                    else:\n",
    "                        # If not, added to the queue\n",
    "                        hq.heappush(queue, next_state)\n",
    "                        existing_state.add(next_state.board_id)\n",
    "\n",
    "    return distance, final_board\n",
    "    "
   ]
  },
  {
   "cell_type": "code",
   "execution_count": 8,
   "metadata": {
    "tags": []
   },
   "outputs": [
    {
     "output_type": "stream",
     "name": "stdout",
     "text": [
      "+------------------------+\n",
      "|  6 |  1 |  7 |  3 |  4 | \n",
      "+------------------------+\n",
      "| 11 |  2 |    |  8 |  5 | \n",
      "+------------------------+\n",
      "| 12 | 13 | 15 | 10 |  9 | \n",
      "+------------------------+\n",
      "| 16 | 17 | 18 | 14 | 20 | \n",
      "+------------------------+\n",
      "| 21 | 22 | 23 | 19 | 24 | \n",
      "+------------------------+\n",
      "\n",
      "Solved with 21 moves\n",
      "Final board\n",
      "+------------------------+\n",
      "|  1 |  2 |  3 |  4 |  5 | \n",
      "+------------------------+\n",
      "|  6 |  7 |  8 |  9 | 10 | \n",
      "+------------------------+\n",
      "| 11 | 12 | 13 | 14 | 15 | \n",
      "+------------------------+\n",
      "| 16 | 17 | 18 | 19 | 20 | \n",
      "+------------------------+\n",
      "| 21 | 22 | 23 | 24 |    | \n",
      "+------------------------+\n",
      "\n"
     ]
    }
   ],
   "source": [
    "# TEST #\n",
    "board = NPuzzle()\n",
    "board.create_board(moves=25, n=5)\n",
    "print(board)\n",
    "distance, final_board = solve_puzzle(board)\n",
    "print (\"Solved with %i moves\" % distance)\n",
    "print (\"Final board\")\n",
    "print (final_board)"
   ]
  },
  {
   "cell_type": "markdown",
   "metadata": {},
   "source": [
    "\n",
    "<div class=\"alert alert-success\" style=\"width:90%; margin:0 auto;\">\n",
    "  <h2><p>3 - Problema del ensamblaje (Opcional)</p></h2>\n",
    "  \n",
    "  <div class=\"row\">\n",
    "  <div>\n",
    "  <p style=\"text-align: justify; padding-right: 30px\">\n",
    "La construcción de un artefacto requiere ensamblar $M$ piezas que identiﬁcamos con números entre $1$ y $M$. El coste de ensamblar la pieza $i$ depende del número de piezas ya ensambladas. Los costes, que son valores positivos, se nos proporcionan en una matriz $C$. La celda $c_{ij}$ es el coste de ensamblar la pieza $i$ cuando ya se han ensamblado $j$ piezas. Deseamos calcular el orden de ensamblado de menor coste total, entendido éste como la suma del coste de ensamblaje de cada una de las piezas. \n",
    "  Implementa mediante ramificación y poda una solución a este problema con tal de encontrar el listado ordenado de piezas cuyo coste total de ensamblaje sea mínimo.\n",
    "  </p>\n",
    "  </div>\n",
    "    </div>\n"
   ]
  },
  {
   "cell_type": "markdown",
   "metadata": {},
   "source": [
    "<div class=\"alert alert-danger\" style=\"width:80%; margin:0 auto; padding\">\n",
    "<center><p><h3> Código </h3></p> </center> \n",
    "\n",
    "<p>\n",
    "<h3>INPUT</h3>\n",
    "<ul>\n",
    "<li>C: Matriz de costes de tamaño $M\\times M$, donde M es el número de piezas. El elemento $i,j$ de la matriz representa el coste de ensamblaje para la pieza $i$ tras haber colocado $j$ piezas. \n",
    "</li>\n",
    "</ul>\n",
    "<br>\n",
    "<h3>OUTPUT</h3>\n",
    "Lista de números de $1$ a $M$ ordenados de forma que el coste total de ensamblaje sea mínimo. Ej: [1, 3, 2, 4, 0]\n",
    "</p>\n",
    "\n",
    "</div>"
   ]
  },
  {
   "cell_type": "code",
   "execution_count": 9,
   "metadata": {},
   "outputs": [],
   "source": [
    "def branch_ensemble(C):\n",
    "    \"\"\"\n",
    "    Función que obtiene el orden óptimo de las piezas tal que el coste total es mínimo.\n",
    "    Args:\n",
    "        - C: matriz de costes M x M\n",
    "    Returns:\n",
    "        - items: lista de enteros, cada entero representa el índice del objeto \n",
    "    \"\"\"\n",
    "    items=[]\n",
    "    \n",
    "    return items"
   ]
  },
  {
   "cell_type": "code",
   "execution_count": 10,
   "metadata": {
    "scrolled": true
   },
   "outputs": [
    {
     "output_type": "stream",
     "name": "stdout",
     "text": [
      "[]\n"
     ]
    }
   ],
   "source": [
    "from random import uniform\n",
    "\n",
    "M = 10 # Número de piezas\n",
    "# Matriz de costes generada aleatoriamente\n",
    "C = {}\n",
    "for i in range(M):\n",
    "    C[i] = {}\n",
    "    for j in range(M):\n",
    "        C[i][j] = uniform(1, 25)\n",
    "\n",
    "solucion = branch_ensemble(C)\n",
    "print(solucion)"
   ]
  },
  {
   "cell_type": "markdown",
   "metadata": {},
   "source": [
    "### En esta sección debéis responder a las preguntas siguientes:\n",
    "#### 1. Explica cómo has realizado tu implementación, enfatizando en la heurística empleada.\n",
    "Hemos seguido el pseudocódigo de las planas del contenido online de la asignatura. Hemos añadido un primerizo 'if' para controlar si ese 'state' es prometedor, en caso contrario nos ahorremos el 'for' de creación de los hijos. Como heurística para la cota superior usamos la suma cuantos movimientos llevamos más lo que harían falta en un mundo ideal, es decir, que si cogemos la distáncia de Manhattan nos da cuanto de lejos estamos de la configuración final.\n",
    "#### 2. Análisis de complejidad de la implementación\n",
    "En el peor de los casos hacemos el siguiente estudio: siendo $moves$ el número de movimientos para mezclar el puzzle, para cada movimiento de mezcla tenemos que cada casilla tiene $4$ posibilidades para deshacer (no siempre es $4$). Si probamos para todas las casillas tendriamos una complejidad de $O(moves · 4^n)$.\n",
    "\n",
    "El bloque de creación de un nuevo 'state' diremos que tiene una complejidad de $O(n^2)$ como mucho, a causa de crear el tablero, 'for''s para obtener las propiedades 'possible', 'manhattan_distance', ...; y varias operaciones con número pequeños. Así, en combinación con el 'for' hablamos de una complejidad del $O(4·n^2) = O(n^2)$. En el mejor de los casos la 'queue' se llena con $n$ estados. Finalmente, sería una complejidad de alrededor $O(moves·n^3)\n"
   ]
  },
  {
   "cell_type": "markdown",
   "metadata": {},
   "source": [
    "<div class=\"alert alert-danger\" style=\"width:80%; margin:0 auto; padding\">\n",
    "Es <b>imperativo <font size=3.5 color=\"#FF0000\">☠☠☠ respetar las cabeceras de las funciones y estructura del return ☠☠☠</font></b> que se indiquen en el enunciado. Pese a que leemos y corregimos vuestros códigos en detalle, empleamos correctores automáticos para guiar y agilizar el proceso. De esta manera, si se pide que la función tenga la siguiente estructura:\n",
    "\n",
    "<code>def funcion_ejercicio(lista1, indice1):\n",
    "    ... # implementación de la solución\n",
    "    return elemento_resultado </code>\n",
    "    \n",
    "En el notebook deberá existir una y solo una función con el nombre <i>funcion_ejercicio</i> que reciba exactamente los parámetros indicados y devuelva las variables en el formato y con el tipo que se requiera en el eunciado. En todos los enunciados se explicitará qué tipo de datos han de pasarse a las funciones y devolverse. <b> La no adherencia al formato de las funciones <font size=3.5 color=\"#FF0000\">☠☠☠ conllevará a una puntuación nula sobre ese ejercicio. ☠☠☠</font> </b>\n",
    "</div>"
   ]
  },
  {
   "cell_type": "markdown",
   "metadata": {},
   "source": [
    "<div class=\"alert alert-info\">\n",
    "<center>\n",
    "  <h1>Entrega</h1>\n",
    "</center>\n",
    "\n",
    "<p>\n",
    "La entrega se podrá realizar en el campus virtual hasta el día <b>8 de Enero a las 23:55</b>. En la tarea que se habilitará en el campus deberéis colgar únicamente este notebook con el nombre:\n",
    "</p>\n",
    "<p>\n",
    "    <code>[grupo*]_[apellido]_[nombre]_4B_RP.ipynb</code>\n",
    "</p>\n",
    "Es fundamental que el código esté bién comentado.\n",
    "<p>\n",
    "<b> <font size=3.5 color=\"#FF0000\">☠☠☠ No adherirse al formato en el nombre del archivo así como entregar otro tipo de archivo o varios archivos, conllevará a la no corrección de vuestra práctica. ☠☠☠</font></b>\n",
    "</p>\n",
    "</p>\n",
    "*: Los posibles grupos de las clases presenciales son: A, B, C, D, F.\n",
    "</div>"
   ]
  },
  {
   "cell_type": "code",
   "execution_count": null,
   "metadata": {},
   "outputs": [],
   "source": []
  }
 ],
 "metadata": {
  "kernelspec": {
   "display_name": "Python 3",
   "language": "python",
   "name": "python3"
  },
  "language_info": {
   "codemirror_mode": {
    "name": "ipython",
    "version": 3
   },
   "file_extension": ".py",
   "mimetype": "text/x-python",
   "name": "python",
   "nbconvert_exporter": "python",
   "pygments_lexer": "ipython3",
   "version": "3.6.8-final"
  }
 },
 "nbformat": 4,
 "nbformat_minor": 1
}