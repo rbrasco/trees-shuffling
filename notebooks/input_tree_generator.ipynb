{
 "cells": [
  {
   "cell_type": "code",
   "execution_count": 2,
   "metadata": {},
   "outputs": [],
   "source": [
    "class Operad:\n",
    "    def __init__(self):\n",
    "        self.colors = {}\n",
    "        self.operations = {}\n",
    "\n",
    "    def add_color(self, name, prop={}):\n",
    "        if t:=self.colors.get(name):\n",
    "            self.colors[name] = (t, prop)\n",
    "        else:\n",
    "            self.colors[name] = prop\n",
    "        return name, t\n",
    "\n",
    "    def add_operation(self, name, prop={}):\n",
    "        self.operations[name] = prop\n",
    "        return name\n",
    "\n",
    "\n",
    "class Tree:\n",
    "    def __init__(self, operation, trunk, branches, operad):\n",
    "\n",
    "        trunk, parent = operad.add_color(trunk, self)\n",
    "        self.trunk = trunk\n",
    "        if parent:\n",
    "            parent.branches[trunk] = self\n",
    "        self.branches = {\n",
    "            operad.add_color(branch, self)[0]: uTree(branch) for branch in branches\n",
    "        }\n",
    "        self.node = operad.add_operation(operation, self)\n",
    "\n",
    "    def print_edges(self, depth=0):\n",
    "        return \"\".join(\n",
    "            [f\"{str(self.trunk)}\\n\"]\n",
    "            + [\n",
    "                \"\\t\" * (depth + 1) + f\"{branch.print_edges(depth + 1)}\\n\"\n",
    "                for branch in self.branches.values()\n",
    "            ]\n",
    "        )\n",
    "\n",
    "    def print_nodes(self, depth=0):\n",
    "        return \"\".join(\n",
    "            [f\"{str(self.node)}\\n\"]\n",
    "            + [\n",
    "                \"\\t\" * (depth + 1) + f\"{branch.print_nodes(depth + 1)}\\n\"\n",
    "                for branch in self.branches.values()\n",
    "            ]\n",
    "        )\n",
    "\n",
    "    def __str__(self):\n",
    "        return f\"{self.node}({','.join(self.branches.keys())};{self.trunk})\"\n",
    "\n",
    "\n",
    "class uTree(Tree):\n",
    "    def __init__(self, name):\n",
    "        self.trunk = name\n",
    "        self.branches = {}\n",
    "        self.node = None\n"
   ]
  },
  {
   "cell_type": "code",
   "execution_count": 3,
   "metadata": {},
   "outputs": [
    {
     "name": "stdout",
     "output_type": "stream",
     "text": [
      "o0w\n",
      "\to2w\n",
      "\t\tNone\n",
      "\n",
      "\t\tNone\n",
      "\n",
      "\n",
      "\to1w\n",
      "\t\tNone\n",
      "\n",
      "\t\tNone\n",
      "\n",
      "\n",
      "\n"
     ]
    }
   ],
   "source": [
    "import re\n",
    "\n",
    "operad = Operad()\n",
    "operads = []\n",
    "\n",
    "tree_str = \"o0w(c2,c1;c0)|o1w(c3,c4;c1)|o2w(c5,c6;c2)\"\n",
    "operations = tree_str.split(\"|\")\n",
    "regex = r\"(o.*)\\((.*)\\)\"\n",
    "for operation in operations:\n",
    "    match = re.match(regex, operation)\n",
    "    if match:\n",
    "        operation, parameters = match.groups()\n",
    "        branches, trunk = parameters.split(\";\")\n",
    "        operads.append(Tree(operation, trunk, branches.split(\",\"), operad))\n",
    "\n",
    "t = operads[0]\n",
    "print(t.print_nodes())\n"
   ]
  },
  {
   "cell_type": "code",
   "execution_count": 54,
   "metadata": {},
   "outputs": [
    {
     "name": "stdout",
     "output_type": "stream",
     "text": [
      "o0w(c2,c1;c0)\n",
      "o0b(d2,d1;d0)\n"
     ]
    }
   ],
   "source": [
    "def string_to_tree_space(string, operad):\n",
    "    # operad = Operad()\n",
    "    operads = []\n",
    "    operations = string.split(\"|\")\n",
    "    regex = r\"(.*)\\((.*)\\)\"\n",
    "    for operation in operations:\n",
    "        match = re.match(regex, operation)\n",
    "        if not match:\n",
    "            raise RuntimeError(f\"Operation not defined correctly {operation}\")\n",
    "        operation, parameters = match.groups()\n",
    "        branches, trunk = parameters.split(\";\")\n",
    "        operads.append(Tree(operation, trunk, branches.split(\",\"), operad))\n",
    "    return operads[0], operad\n",
    "\n",
    "\n",
    "def tree_space_to_string(tree_space):\n",
    "    _, operad = tree_space\n",
    "    return \"|\".join(str(tree) for tree in operad.operations.values())\n",
    "\n",
    "\n",
    "S = string_to_tree_space(\"o0w(c2,c1;c0)\", Operad())\n",
    "T = string_to_tree_space(\"o0b(d2,d1;d0)\", Operad())\n",
    "# T = string_to_tree_space(\"o0w(c2,c1;c0)|o1w(c3,c4;c1)|o2w(c5,c6;c2)\", Operad())\n",
    "# S = string_to_tree_space(\"o0b(d2,d1;d0)|o1b(d3,d4;d1)|o2b(d5,d6;d2)\", Operad())\n",
    "# S = string_to_tree_space(\"W(b,c;a)\", Operad())\n",
    "# T = string_to_tree_space(\"B(1;0)\", Operad())\n",
    "# S = string_to_tree_space(\"0W(1;0)|1W(2,3;1)\", Operad())\n",
    "# T = string_to_tree_space(\"0B(b,d;a)|1B(c;b)|2B(e;d)\", Operad())\n",
    "print(tree_space_to_string(S))\n",
    "print(tree_space_to_string(T))\n"
   ]
  },
  {
   "cell_type": "code",
   "execution_count": 64,
   "metadata": {},
   "outputs": [
    {
     "name": "stdout",
     "output_type": "stream",
     "text": [
      "([('None(;c2)', [('None(;c2)', 'None(;d2)'), ('None(;c2)', 'None(;d1)')]), ('None(;c1)', [('None(;c1)', 'None(;d2)'), ('None(;c1)', 'None(;d1)')])], [([('None(;c2)', 'None(;d2)'), ('None(;c1)', 'None(;d2)')], 'None(;d2)'), ([('None(;c2)', 'None(;d1)'), ('None(;c1)', 'None(;d1)')], 'None(;d1)')])\n"
     ]
    }
   ],
   "source": [
    "import math\n",
    "def Sh(S, T):\n",
    "    if isinstance(S, uTree) and isinstance(T, uTree):\n",
    "        return str(S), str(T)\n",
    "    if isinstance(S, uTree):\n",
    "        return str(S), [Sh(S, Ti) for Ti in T.branches.values()]\n",
    "    if isinstance(T, uTree):\n",
    "        return [Sh(Si, T) for Si in S.branches.values()], str(T)\n",
    "\n",
    "    return [Sh(Si, T) for Si in S.branches.values()], [\n",
    "        Sh(S, Ti) for Ti in T.branches.values()\n",
    "    ]\n",
    "\n",
    "# Sin simetria\n",
    "def sh(S, T):\n",
    "    if isinstance(S, uTree):\n",
    "        return 1 + math.prod([sh(S, Ti) for Ti in T.branches.values()])\n",
    "    if isinstance(T, uTree):\n",
    "        return math.prod([sh(Si, T) for Si in S.branches.values()]) + 1\n",
    "    return math.prod([sh(Si, T) for Si in S.branches.values()]) + math.prod([\n",
    "        sh(S, Ti) for Ti in T.branches.values()\n",
    "    ])\n",
    "    \n",
    "Sh_lattice = Sh(S[0], T[0])\n",
    "sh_number = sh(S[0], T[0])\n",
    "print(Sh_lattice)\n"
   ]
  },
  {
   "cell_type": "code",
   "execution_count": 63,
   "metadata": {},
   "outputs": [
    {
     "name": "stdout",
     "output_type": "stream",
     "text": [
      "([('o0b(c2-d2,c2-d1;c2-d0)', ['None(;c2-d2)', 'None(;c2-d1)']), ('o0b(c1-d2,c1-d1;c1-d0)', ['None(;c1-d2)', 'None(;c1-d1)'])], [(['None(;c2-d2)', 'None(;c1-d2)'], 'o0w(c2-d2,c1-d2;c0-d2)'), (['None(;c2-d1)', 'None(;c1-d1)'], 'o0w(c2-d1,c1-d1;c0-d1)')])\n"
     ]
    }
   ],
   "source": [
    "def Sh_merge(S, T):\n",
    "    if isinstance(S, uTree) and isinstance(T, uTree):\n",
    "        return f\"{None}(;{S.trunk}-{T.trunk})\"\n",
    "    if isinstance(S, uTree):\n",
    "        return (\n",
    "            f\"{T.node}({','.join(map(lambda x: S.trunk+'-'+x, T.branches.keys()))};{S.trunk}-{T.trunk})\",\n",
    "            [Sh_merge(S, Ti) for Ti in T.branches.values()],\n",
    "        )\n",
    "    if isinstance(T, uTree):\n",
    "        return (\n",
    "            [Sh_merge(Si, T) for Si in S.branches.values()],\n",
    "            f\"{S.node}({','.join(map(lambda x: x+'-'+T.trunk, S.branches.keys()))};{S.trunk}-{T.trunk})\",\n",
    "        )\n",
    "    return [Sh_merge(Si, T) for Si in S.branches.values()], [\n",
    "        Sh_merge(S, Ti) for Ti in T.branches.values()\n",
    "    ]\n",
    "\n",
    "\n",
    "sh = Sh_merge(S[0], T[0])\n",
    "print(sh)\n"
   ]
  }
 ],
 "metadata": {
  "interpreter": {
   "hash": "f9f85f796d01129d0dd105a088854619f454435301f6ffec2fea96ecbd9be4ac"
  },
  "kernelspec": {
   "display_name": "Python 3.9.9 64-bit",
   "language": "python",
   "name": "python3"
  },
  "language_info": {
   "codemirror_mode": {
    "name": "ipython",
    "version": 3
   },
   "file_extension": ".py",
   "mimetype": "text/x-python",
   "name": "python",
   "nbconvert_exporter": "python",
   "pygments_lexer": "ipython3",
   "version": "3.9.9"
  },
  "orig_nbformat": 4
 },
 "nbformat": 4,
 "nbformat_minor": 2
}
