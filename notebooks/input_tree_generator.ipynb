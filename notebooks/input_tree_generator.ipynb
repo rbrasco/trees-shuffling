{
 "cells": [
  {
   "cell_type": "code",
   "execution_count": 1,
   "metadata": {},
   "outputs": [
    {
     "name": "stdout",
     "output_type": "stream",
     "text": [
      "['o0(c1;c0)', 'o1(c2;c1)']\n",
      "o0 c1;c0\n",
      "o1 c2;c1\n"
     ]
    }
   ],
   "source": [
    "import re\n",
    "\n",
    "tree_str = \"o0(c1;c0),o1(c2;c1)\"\n",
    "operations = tree_str.split(\",\")\n",
    "print(operations)\n",
    "regex = r\"(o.*)\\((.*)\\)\"\n",
    "for operation in operations:\n",
    "    match = re.match(regex,operation)\n",
    "    if match:\n",
    "        node, edges = match.groups()\n",
    "        print(node, edges)\n",
    "\n"
   ]
  }
 ],
 "metadata": {
  "interpreter": {
   "hash": "f9f85f796d01129d0dd105a088854619f454435301f6ffec2fea96ecbd9be4ac"
  },
  "kernelspec": {
   "display_name": "Python 3.9.9 64-bit",
   "language": "python",
   "name": "python3"
  },
  "language_info": {
   "codemirror_mode": {
    "name": "ipython",
    "version": 3
   },
   "file_extension": ".py",
   "mimetype": "text/x-python",
   "name": "python",
   "nbconvert_exporter": "python",
   "pygments_lexer": "ipython3",
   "version": "3.9.9"
  },
  "orig_nbformat": 4
 },
 "nbformat": 4,
 "nbformat_minor": 2
}
