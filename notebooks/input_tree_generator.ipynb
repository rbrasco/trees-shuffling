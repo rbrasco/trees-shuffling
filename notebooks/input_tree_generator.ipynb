{
 "cells": [
  {
   "cell_type": "code",
   "execution_count": 7,
   "metadata": {},
   "outputs": [
    {
     "name": "stdout",
     "output_type": "stream",
     "text": [
      "['o0(c1;c0)', 'o1(c2;c1)']\n",
      "o0 c1;c0\n",
      "o1 c2;c1\n"
     ]
    }
   ],
   "source": [
    "import re\n",
    "\n",
    "tree_str = \"o0(c1;c0),o1(c2;c1)\"\n",
    "operations = tree_str.split(\",\")\n",
    "print(operations)\n",
    "regex = r\"(o.*)\\((.*)\\)\"\n",
    "for operation in operations:\n",
    "    match = re.match(regex,operation)\n",
    "    if match:\n",
    "        node, edges = match.groups()\n",
    "        print(node, edges)\n",
    "\n"
   ]
  },
  {
   "cell_type": "code",
   "execution_count": 5,
   "metadata": {},
   "outputs": [],
   "source": [
    "from collections import defaultdict\n",
    "\n",
    "\n",
    "class Operad:\n",
    "    def __init__(self):\n",
    "        self.colors = defaultdict(list)\n",
    "        self.operations = defaultdict(list)\n",
    "\n",
    "    def add_color(self, name, prop={}):\n",
    "        self.colors[name].append(prop)\n",
    "        return name\n",
    "\n",
    "    def add_operation(self, name, prop={}):\n",
    "        self.operations[name].append(prop)\n",
    "        return name\n",
    "    \n",
    "\n",
    "\n",
    "class Tree:\n",
    "    def __init__(self, operation, trunk, branches, operad):\n",
    "        self.trunk = operad.add_color(trunk, self)\n",
    "        self.branches = [operad.add_color(branch, self) for branch in branches]\n",
    "        self.node = operad.add_operation(operation, self)\n",
    "\n"
   ]
  },
  {
   "cell_type": "code",
   "execution_count": 11,
   "metadata": {},
   "outputs": [
    {
     "name": "stdout",
     "output_type": "stream",
     "text": [
      "defaultdict(<class 'list'>, {'c0': [<__main__.Tree object at 0x7fb1e281ee50>], 'c1': [<__main__.Tree object at 0x7fb1e281ee50>, <__main__.Tree object at 0x7fb1e281ed90>], 'c2': [<__main__.Tree object at 0x7fb1e281ed90>], 'c3': [<__main__.Tree object at 0x7fb1e281ed90>]})\n",
      "defaultdict(<class 'list'>, {'o0': [<__main__.Tree object at 0x7fb1e281ee50>], 'o1': [<__main__.Tree object at 0x7fb1e281ed90>]})\n",
      "[<__main__.Tree object at 0x7fb1e281ee50>, <__main__.Tree object at 0x7fb1e281ed90>]\n"
     ]
    }
   ],
   "source": [
    "operad = Operad()\n",
    "operads = []\n",
    "\n",
    "tree_str = \"o0(c1;c0)|o1(c2,c3;c1)\"\n",
    "operations = tree_str.split(\"|\")\n",
    "regex = r\"(o.*)\\((.*)\\)\"\n",
    "for operation in operations:\n",
    "    match = re.match(regex,operation)\n",
    "    if match:\n",
    "        operation, parameters = match.groups()\n",
    "        branches, trunk = parameters.split(\";\")\n",
    "        operads.append(Tree(operation, trunk, branches.split(','), operad))\n",
    "\n",
    "print(operad.colors)\n",
    "print(operad.operations)\n",
    "print(operads)"
   ]
  }
 ],
 "metadata": {
  "interpreter": {
   "hash": "f9f85f796d01129d0dd105a088854619f454435301f6ffec2fea96ecbd9be4ac"
  },
  "kernelspec": {
   "display_name": "Python 3.9.9 64-bit",
   "language": "python",
   "name": "python3"
  },
  "language_info": {
   "codemirror_mode": {
    "name": "ipython",
    "version": 3
   },
   "file_extension": ".py",
   "mimetype": "text/x-python",
   "name": "python",
   "nbconvert_exporter": "python",
   "pygments_lexer": "ipython3",
   "version": "3.9.9"
  },
  "orig_nbformat": 4
 },
 "nbformat": 4,
 "nbformat_minor": 2
}
