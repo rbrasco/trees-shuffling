{
 "cells": [
  {
   "cell_type": "code",
   "execution_count": 23,
   "metadata": {},
   "outputs": [],
   "source": [
    "class Operad:\n",
    "    def __init__(self):\n",
    "        self.colors = {}\n",
    "        self.operations = {}\n",
    "\n",
    "    def add_color(self, name, prop={}):\n",
    "        if name in self.colors.keys():\n",
    "            t = self.colors[name]\n",
    "            self.colors[name] = (t, prop)\n",
    "        else:\n",
    "            self.colors[name] = prop\n",
    "        return name\n",
    "\n",
    "    def add_color_for_trunk(self, name, prop={}):\n",
    "        t = None\n",
    "        if name in self.colors.keys():\n",
    "            t = self.colors[name]\n",
    "            self.colors[name] = (t, prop)\n",
    "        else:\n",
    "            self.colors[name] = prop\n",
    "        return name, t\n",
    "\n",
    "    def add_operation(self, name, prop={}):\n",
    "        self.operations[name] = prop\n",
    "        return name\n",
    "\n",
    "\n",
    "class Tree:\n",
    "    def __init__(self, operation, trunk, branches, operad):\n",
    "\n",
    "        trunk, parent = operad.add_color_for_trunk(trunk, self)\n",
    "        self.trunk = trunk\n",
    "        if parent:\n",
    "            parent.branches[trunk] = self\n",
    "        self.branches = {\n",
    "            operad.add_color(branch, self): uTree(branch) for branch in branches\n",
    "        }\n",
    "        self.node = operad.add_operation(operation, self)\n",
    "\n",
    "    def print_edges(self, depth=0):\n",
    "        return \"\".join(\n",
    "            [f\"{str(self.trunk)}\\n\"]\n",
    "            + [\n",
    "                \"\\t\" * (depth + 1) + f\"{branch.print_edges(depth + 1)}\\n\"\n",
    "                for branch in self.branches.values()\n",
    "            ]\n",
    "        )\n",
    "\n",
    "    def print_nodes(self, depth=0):\n",
    "        return \"\".join(\n",
    "            [f\"{str(self.node)}\\n\"]\n",
    "            + [\n",
    "                \"\\t\" * (depth + 1) + f\"{branch.print_nodes(depth + 1)}\\n\"\n",
    "                for branch in self.branches.values()\n",
    "            ]\n",
    "        )\n",
    "    def __str__(self):\n",
    "        return f\"{self.node}({','.join(self.branches.keys())};{self.trunk})\"\n",
    "\n",
    "\n",
    "class uTree(Tree):\n",
    "    def __init__(self, name):\n",
    "        self.trunk = name\n",
    "        self.branches = {}\n",
    "        self.node = None"
   ]
  },
  {
   "cell_type": "code",
   "execution_count": 24,
   "metadata": {},
   "outputs": [
    {
     "name": "stdout",
     "output_type": "stream",
     "text": [
      "o0\n",
      "\to2\n",
      "\t\tNone\n",
      "\n",
      "\t\tNone\n",
      "\n",
      "\n",
      "\to1\n",
      "\t\tNone\n",
      "\n",
      "\t\tNone\n",
      "\n",
      "\n",
      "\n"
     ]
    }
   ],
   "source": [
    "import re\n",
    "\n",
    "operad = Operad()\n",
    "operads = []\n",
    "\n",
    "tree_str = \"o0(c2,c1;c0)|o1(c3,c4;c1)|o2(c5,c6;c2)\"\n",
    "operations = tree_str.split(\"|\")\n",
    "regex = r\"(o.*)\\((.*)\\)\"\n",
    "for operation in operations:\n",
    "    match = re.match(regex, operation)\n",
    "    if match:\n",
    "        operation, parameters = match.groups()\n",
    "        branches, trunk = parameters.split(\";\")\n",
    "        operads.append(Tree(operation, trunk, branches.split(\",\"), operad))\n",
    "\n",
    "t = operads[0]\n",
    "print(t.print_nodes())\n"
   ]
  },
  {
   "cell_type": "code",
   "execution_count": 31,
   "metadata": {},
   "outputs": [
    {
     "name": "stdout",
     "output_type": "stream",
     "text": [
      "o0(c2,c1;c0)|o1(c3,c4;c1)|o2(c5,c6;c2)\n"
     ]
    }
   ],
   "source": [
    "def string_to_tree_space(string):\n",
    "    operad = Operad()\n",
    "    operads = []\n",
    "    operations = tree_str.split(\"|\")\n",
    "    regex = r\"(.*)\\((.*)\\)\"\n",
    "    for operation in operations:\n",
    "        match = re.match(regex, operation)\n",
    "        if not match:\n",
    "            raise RuntimeError(f\"Operation not defined correctly {operation}\")\n",
    "        operation, parameters = match.groups()\n",
    "        branches, trunk = parameters.split(\";\")\n",
    "        operads.append(Tree(operation, trunk, branches.split(\",\"), operad))\n",
    "    return operads[0], operad\n",
    "\n",
    "\n",
    "def tree_space_to_string(tree_space):\n",
    "    _, operad = tree_space\n",
    "    return \"|\".join(str(tree) for tree in operad.operations.values())\n",
    "\n",
    "\n",
    "space = string_to_tree_space(\"o0(c2,c1;c0)|o1(c3,c4;c1)|o2(c5,c6;c2)\")\n",
    "\n",
    "print(tree_space_to_string(space))\n"
   ]
  }
 ],
 "metadata": {
  "interpreter": {
   "hash": "f9f85f796d01129d0dd105a088854619f454435301f6ffec2fea96ecbd9be4ac"
  },
  "kernelspec": {
   "display_name": "Python 3.9.9 64-bit",
   "language": "python",
   "name": "python3"
  },
  "language_info": {
   "codemirror_mode": {
    "name": "ipython",
    "version": 3
   },
   "file_extension": ".py",
   "mimetype": "text/x-python",
   "name": "python",
   "nbconvert_exporter": "python",
   "pygments_lexer": "ipython3",
   "version": "3.9.9"
  },
  "orig_nbformat": 4
 },
 "nbformat": 4,
 "nbformat_minor": 2
}
